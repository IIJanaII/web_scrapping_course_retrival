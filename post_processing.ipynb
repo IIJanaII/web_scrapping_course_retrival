{
 "cells": [
  {
   "cell_type": "code",
   "execution_count": 4,
   "metadata": {},
   "outputs": [],
   "source": [
    "import pandas as pd\n",
    "import numpy as np"
   ]
  },
  {
   "cell_type": "code",
   "execution_count": 8,
   "metadata": {},
   "outputs": [],
   "source": [
    "df=pd.read_csv(\"C:/Users/jega_/Downloads/courses_estimated_cost.csv\",sep=',')"
   ]
  },
  {
   "cell_type": "code",
   "execution_count": 9,
   "metadata": {},
   "outputs": [
    {
     "data": {
      "text/html": [
       "<div>\n",
       "<style scoped>\n",
       "    .dataframe tbody tr th:only-of-type {\n",
       "        vertical-align: middle;\n",
       "    }\n",
       "\n",
       "    .dataframe tbody tr th {\n",
       "        vertical-align: top;\n",
       "    }\n",
       "\n",
       "    .dataframe thead th {\n",
       "        text-align: right;\n",
       "    }\n",
       "</style>\n",
       "<table border=\"1\" class=\"dataframe\">\n",
       "  <thead>\n",
       "    <tr style=\"text-align: right;\">\n",
       "      <th></th>\n",
       "      <th>title</th>\n",
       "      <th>link</th>\n",
       "      <th>type</th>\n",
       "      <th>provider</th>\n",
       "      <th>description</th>\n",
       "      <th>duration</th>\n",
       "      <th>when</th>\n",
       "      <th>price</th>\n",
       "      <th>level</th>\n",
       "      <th>certificate</th>\n",
       "      <th>img</th>\n",
       "      <th>short_link</th>\n",
       "      <th>cost_per_co</th>\n",
       "      <th>duration_seconds</th>\n",
       "      <th>estimated_cost_g</th>\n",
       "    </tr>\n",
       "  </thead>\n",
       "  <tbody>\n",
       "    <tr>\n",
       "      <th>0</th>\n",
       "      <td>Mathematics for Computer Science: Essential Sk...</td>\n",
       "      <td>https://www.futurelearn.com/courses/mathematic...</td>\n",
       "      <td>Course</td>\n",
       "      <td>University of Hull</td>\n",
       "      <td>Mathematics for Computer Science: Essential Sk...</td>\n",
       "      <td>3 weeks, 3 hours</td>\n",
       "      <td>No when</td>\n",
       "      <td>No price</td>\n",
       "      <td>No level</td>\n",
       "      <td>No certificate</td>\n",
       "      <td>No image</td>\n",
       "      <td>https://www.futurelearn.com/</td>\n",
       "      <td>1.27</td>\n",
       "      <td>1825200.0</td>\n",
       "      <td>1448.7525</td>\n",
       "    </tr>\n",
       "    <tr>\n",
       "      <th>1</th>\n",
       "      <td>Azure Cloud Fundamentals for Data Science with...</td>\n",
       "      <td>https://www.futurelearn.com/courses/cloudswyft...</td>\n",
       "      <td>Course</td>\n",
       "      <td>cloudswyft</td>\n",
       "      <td>Azure Cloud Fundamentals for Data Science with...</td>\n",
       "      <td>2 weeks, 6 hours</td>\n",
       "      <td>No when</td>\n",
       "      <td>€36/month</td>\n",
       "      <td>No level</td>\n",
       "      <td>No certificate</td>\n",
       "      <td>No image</td>\n",
       "      <td>https://www.futurelearn.com/</td>\n",
       "      <td>1.27</td>\n",
       "      <td>1231200.0</td>\n",
       "      <td>977.2650</td>\n",
       "    </tr>\n",
       "    <tr>\n",
       "      <th>2</th>\n",
       "      <td>Introduction to Quantum Computing</td>\n",
       "      <td>https://www.futurelearn.com/courses/introducti...</td>\n",
       "      <td>Course</td>\n",
       "      <td>UCL</td>\n",
       "      <td>Introduction to Quantum Computing.Learn the fu...</td>\n",
       "      <td>2 weeks, 5 hours</td>\n",
       "      <td>No when</td>\n",
       "      <td>€144</td>\n",
       "      <td>No level</td>\n",
       "      <td>No certificate</td>\n",
       "      <td>No image</td>\n",
       "      <td>https://www.futurelearn.com/</td>\n",
       "      <td>1.27</td>\n",
       "      <td>1227600.0</td>\n",
       "      <td>974.4075</td>\n",
       "    </tr>\n",
       "    <tr>\n",
       "      <th>3</th>\n",
       "      <td>MSc Advanced Computer Science</td>\n",
       "      <td>https://www.futurelearn.com/degrees/university...</td>\n",
       "      <td>Degree</td>\n",
       "      <td>MSc Advanced Computer Science</td>\n",
       "      <td>Unlock new coding and computer programming exp...</td>\n",
       "      <td>No length</td>\n",
       "      <td>No when</td>\n",
       "      <td>No price</td>\n",
       "      <td>No level</td>\n",
       "      <td>No certificate</td>\n",
       "      <td>No image</td>\n",
       "      <td>https://www.futurelearn.com/</td>\n",
       "      <td>1.27</td>\n",
       "      <td>0.0</td>\n",
       "      <td>0.0000</td>\n",
       "    </tr>\n",
       "    <tr>\n",
       "      <th>4</th>\n",
       "      <td>Microsoft Future Ready: Introduction to Azure ...</td>\n",
       "      <td>https://www.futurelearn.com/courses/cloudswyft...</td>\n",
       "      <td>Course</td>\n",
       "      <td>cloudswyft</td>\n",
       "      <td>Microsoft Future Ready: Introduction to Azure ...</td>\n",
       "      <td>2 weeks, 6 hours</td>\n",
       "      <td>No when</td>\n",
       "      <td>€36/month</td>\n",
       "      <td>No level</td>\n",
       "      <td>No certificate</td>\n",
       "      <td>No image</td>\n",
       "      <td>https://www.futurelearn.com/</td>\n",
       "      <td>1.27</td>\n",
       "      <td>1231200.0</td>\n",
       "      <td>977.2650</td>\n",
       "    </tr>\n",
       "  </tbody>\n",
       "</table>\n",
       "</div>"
      ],
      "text/plain": [
       "                                               title  \\\n",
       "0  Mathematics for Computer Science: Essential Sk...   \n",
       "1  Azure Cloud Fundamentals for Data Science with...   \n",
       "2                  Introduction to Quantum Computing   \n",
       "3                      MSc Advanced Computer Science   \n",
       "4  Microsoft Future Ready: Introduction to Azure ...   \n",
       "\n",
       "                                                link    type  \\\n",
       "0  https://www.futurelearn.com/courses/mathematic...  Course   \n",
       "1  https://www.futurelearn.com/courses/cloudswyft...  Course   \n",
       "2  https://www.futurelearn.com/courses/introducti...  Course   \n",
       "3  https://www.futurelearn.com/degrees/university...  Degree   \n",
       "4  https://www.futurelearn.com/courses/cloudswyft...  Course   \n",
       "\n",
       "                        provider  \\\n",
       "0             University of Hull   \n",
       "1                     cloudswyft   \n",
       "2                            UCL   \n",
       "3  MSc Advanced Computer Science   \n",
       "4                     cloudswyft   \n",
       "\n",
       "                                         description          duration  \\\n",
       "0  Mathematics for Computer Science: Essential Sk...  3 weeks, 3 hours   \n",
       "1  Azure Cloud Fundamentals for Data Science with...  2 weeks, 6 hours   \n",
       "2  Introduction to Quantum Computing.Learn the fu...  2 weeks, 5 hours   \n",
       "3  Unlock new coding and computer programming exp...         No length   \n",
       "4  Microsoft Future Ready: Introduction to Azure ...  2 weeks, 6 hours   \n",
       "\n",
       "      when      price     level     certificate       img  \\\n",
       "0  No when   No price  No level  No certificate  No image   \n",
       "1  No when  €36/month  No level  No certificate  No image   \n",
       "2  No when       €144  No level  No certificate  No image   \n",
       "3  No when   No price  No level  No certificate  No image   \n",
       "4  No when  €36/month  No level  No certificate  No image   \n",
       "\n",
       "                     short_link  cost_per_co  duration_seconds  \\\n",
       "0  https://www.futurelearn.com/         1.27         1825200.0   \n",
       "1  https://www.futurelearn.com/         1.27         1231200.0   \n",
       "2  https://www.futurelearn.com/         1.27         1227600.0   \n",
       "3  https://www.futurelearn.com/         1.27               0.0   \n",
       "4  https://www.futurelearn.com/         1.27         1231200.0   \n",
       "\n",
       "   estimated_cost_g  \n",
       "0         1448.7525  \n",
       "1          977.2650  \n",
       "2          974.4075  \n",
       "3            0.0000  \n",
       "4          977.2650  "
      ]
     },
     "execution_count": 9,
     "metadata": {},
     "output_type": "execute_result"
    }
   ],
   "source": [
    "df.head()"
   ]
  },
  {
   "cell_type": "code",
   "execution_count": 21,
   "metadata": {},
   "outputs": [],
   "source": [
    "df['description'].fillna(\"no description\", inplace=True)"
   ]
  },
  {
   "cell_type": "code",
   "execution_count": 10,
   "metadata": {},
   "outputs": [],
   "source": [
    "df['duration_hour'] = df['duration_seconds'] / 3600"
   ]
  },
  {
   "cell_type": "code",
   "execution_count": 11,
   "metadata": {},
   "outputs": [],
   "source": [
    "df= df.drop_duplicates(['title', 'description'])"
   ]
  },
  {
   "cell_type": "code",
   "execution_count": 14,
   "metadata": {},
   "outputs": [],
   "source": [
    "def map_price(price):\n",
    "    if price == 'No price':\n",
    "        return np.nan\n",
    "    elif 'Free' in price:\n",
    "        return 0\n",
    "    elif 'Paid' in price:\n",
    "        return np.nan\n",
    "    elif price.startswith('$'):\n",
    "        # Remove dollar sign, comma, and the last two digits after the dot\n",
    "        numeric_value = int(''.join(filter(str.isdigit, price.replace(',', '').replace('$', '').split('.')[0])))\n",
    "        return numeric_value\n",
    "    else:\n",
    "        # Remove dollar sign and comma, then convert to integer\n",
    "        numeric_value = int(''.join(filter(str.isdigit, price.replace(',', '').replace('$', ''))))\n",
    "        return numeric_value\n",
    "\n",
    "# Apply the mapping function to create the new column\n",
    "df['new_price_column'] = df['price'].map(map_price)"
   ]
  },
  {
   "cell_type": "code",
   "execution_count": 15,
   "metadata": {},
   "outputs": [],
   "source": [
    "def update_type(row):\n",
    "    if 'master' in row['title'].lower() or 'bachelor' in row['title'].lower():\n",
    "        return 'Degree'\n",
    "    else:\n",
    "        return row['type']\n",
    "\n",
    "# Apply the custom function to update 'type'\n",
    "df['type'] = df.apply(update_type, axis=1)"
   ]
  },
  {
   "cell_type": "code",
   "execution_count": 16,
   "metadata": {},
   "outputs": [],
   "source": [
    "# Custom function to update 'type' and 'new_price_column'\n",
    "def update_type_and_price(row):\n",
    "    if row['type'] =='Degree' and row['new_price_column']>2500:\n",
    "        \n",
    "        row['new_price_column'] = 0.0\n",
    "    return row\n",
    "\n",
    "# Apply the custom function to update 'type' and 'new_price_column'\n",
    "df = df.apply(update_type_and_price, axis=1)"
   ]
  },
  {
   "cell_type": "code",
   "execution_count": 19,
   "metadata": {},
   "outputs": [],
   "source": [
    "df['img'] = np.where(df['img'] == 'No image', 'https://th.bing.com/th/id/OIP.O0LhiSUD9RRL9_Anb-hkkAHaEo?w=314&h=196&c=7&r=0&o=5&dpr=1.3&pid=1.7', df['img'])"
   ]
  },
  {
   "cell_type": "code",
   "execution_count": 18,
   "metadata": {},
   "outputs": [
    {
     "data": {
      "text/plain": [
       "title                object\n",
       "link                 object\n",
       "type                 object\n",
       "provider             object\n",
       "description          object\n",
       "duration             object\n",
       "when                 object\n",
       "price                object\n",
       "level                object\n",
       "certificate          object\n",
       "img                  object\n",
       "short_link           object\n",
       "cost_per_co         float64\n",
       "duration_seconds    float64\n",
       "estimated_cost_g    float64\n",
       "duration_hour       float64\n",
       "new_price_column    float64\n",
       "dtype: object"
      ]
     },
     "execution_count": 18,
     "metadata": {},
     "output_type": "execute_result"
    }
   ],
   "source": [
    "df.dtypes"
   ]
  },
  {
   "cell_type": "code",
   "execution_count": 22,
   "metadata": {},
   "outputs": [],
   "source": [
    "df.to_csv('dataframecourse_final.csv',sep=',')"
   ]
  }
 ],
 "metadata": {
  "kernelspec": {
   "display_name": "base",
   "language": "python",
   "name": "python3"
  },
  "language_info": {
   "codemirror_mode": {
    "name": "ipython",
    "version": 3
   },
   "file_extension": ".py",
   "mimetype": "text/x-python",
   "name": "python",
   "nbconvert_exporter": "python",
   "pygments_lexer": "ipython3",
   "version": "3.9.13"
  }
 },
 "nbformat": 4,
 "nbformat_minor": 2
}
